{
 "cells": [
  {
   "cell_type": "code",
   "execution_count": 5,
   "metadata": {
    "collapsed": false
   },
   "outputs": [],
   "source": [
    "import matplotlib.pyplot as plt\n",
    "% matplotlib inline\n",
    "import numpy as np\n",
    "import pandas as pd \n",
    "from cvxpy import *"
   ]
  },
  {
   "cell_type": "code",
   "execution_count": 6,
   "metadata": {
    "collapsed": false
   },
   "outputs": [
    {
     "name": "stdout",
     "output_type": "stream",
     "text": [
      "['ECOS_BB', 'SCS', 'ECOS', 'GUROBI', 'LS']\n"
     ]
    }
   ],
   "source": [
    "print installed_solvers()"
   ]
  },
  {
   "cell_type": "code",
   "execution_count": 55,
   "metadata": {
    "collapsed": false
   },
   "outputs": [],
   "source": [
    "# edges for connected nodes\n",
    "# check test data set, due to data privacy issues the data for the paper is relesed\n",
    "E= pd.read_csv(\"data/edges_new.csv\",header=None)\n",
    "# community label for each node\n",
    "C = pd.read_csv(\"data/nodes_C.csv\",header=None)\n",
    "# \n",
    "V = pd.read_csv(\"data/nodes_N.csv\",header=None)\n",
    "# distance between connedted nodes\n",
    "E_all = pd.read_csv(\"data/E_all.csv\",header=None)"
   ]
  },
  {
   "cell_type": "code",
   "execution_count": 61,
   "metadata": {
    "collapsed": true
   },
   "outputs": [],
   "source": [
    "community = C.values.tolist()\n",
    "input = np.zeros((27*27,2))\n",
    "c_matrix = np.zeros((27,27))\n",
    "Y_matrix = np.zeros((27,27))\n",
    "for i in range(27):\n",
    "    for j in range(27):\n",
    "        if i!=j:\n",
    "            if community[i]==community[j]:\n",
    "                c_matrix[i,j] = 1\n",
    "input[:,0] = c_matrix.reshape(27*27)\n",
    "distance = E_all[1].values.tolist()\n",
    "input[:,1] = distance"
   ]
  },
  {
   "cell_type": "code",
   "execution_count": 62,
   "metadata": {
    "collapsed": false
   },
   "outputs": [
    {
     "name": "stderr",
     "output_type": "stream",
     "text": [
      "/Users/danqing0703/anaconda/lib/python2.7/site-packages/ipykernel/__main__.py:14: VisibleDeprecationWarning: using a non-integer number instead of an integer will result in an error in the future\n"
     ]
    }
   ],
   "source": [
    "start = E[0].values.tolist()\n",
    "end  = E[1].values.tolist()\n",
    "names = V.values.tolist()\n",
    "start_int = np.zeros((len(start)))\n",
    "end_int = np.zeros((len(start)))\n",
    "for i in range(len(start)):\n",
    "    for j in range(len(names)):\n",
    "        if names[j][0] == start[i]:\n",
    "            start_int[i] = int(j)\n",
    "        if names[j][0] == end[i]:\n",
    "            end_int[i] = int(j)\n",
    "Y_matrix = np.zeros((27,27))\n",
    "for i in range(len(start_int)):\n",
    "    Y_matrix[start_int[i],end_int[i]] = 1\n",
    "Y = Y_matrix.reshape(27*27)"
   ]
  },
  {
   "cell_type": "code",
   "execution_count": 63,
   "metadata": {
    "collapsed": true
   },
   "outputs": [],
   "source": [
    "import cvxpy as cvx\n",
    "w = cvx.Variable(2)\n",
    "b = cvx.Variable(1)"
   ]
  },
  {
   "cell_type": "code",
   "execution_count": 64,
   "metadata": {
    "collapsed": false
   },
   "outputs": [
    {
     "name": "stderr",
     "output_type": "stream",
     "text": [
      "/Users/danqing0703/anaconda/lib/python2.7/site-packages/ipykernel/__main__.py:3: VisibleDeprecationWarning: using a non-integer number instead of an integer will result in an error in the future\n",
      "  app.launch_new_instance()\n"
     ]
    }
   ],
   "source": [
    "Y_matrix = np.ones((27,27))*(-1)\n",
    "for i in range(len(start_int)):\n",
    "    Y_matrix[start_int[i],end_int[i]] = 1\n",
    "Y = Y_matrix.reshape(27*27)"
   ]
  },
  {
   "cell_type": "code",
   "execution_count": 65,
   "metadata": {
    "collapsed": false
   },
   "outputs": [],
   "source": [
    "loss = cvx.sum_entries(cvx.logistic(-cvx.mul_elemwise(Y, input*w+np.ones((729,1))*b)))"
   ]
  },
  {
   "cell_type": "code",
   "execution_count": 66,
   "metadata": {
    "collapsed": false
   },
   "outputs": [
    {
     "name": "stdout",
     "output_type": "stream",
     "text": [
      "\n",
      "ECOS 2.0.4 - (C) embotech GmbH, Zurich Switzerland, 2012-15. Web: www.embotech.com/ECOS\n",
      "\n",
      "It     pcost       dcost      gap   pres   dres    k/t    mu     step   sigma     IR    |   BT\n",
      " 0  +0.000e+00  -1.149e+03  +5e+03  6e-01  4e+00  1e+00  1e+00    ---    ---    0  0  - |  -  - \n",
      " 1  -1.061e+02  -4.938e+02  +1e+03  2e-01  2e+00  4e-01  2e-01  0.7833  5e-02   2  1  1 |  2  1\n",
      " 2  +1.605e+02  +1.843e+01  +4e+02  8e-02  6e-01  2e-01  7e-02  0.7833  1e-01   2  1  1 |  3  1\n",
      " 3  +1.606e+02  +8.738e+01  +2e+02  4e-02  3e-01  9e-02  4e-02  0.6266  2e-01   2  1  1 |  4  2\n",
      " 4  +1.588e+02  +1.249e+02  +9e+01  2e-02  1e-01  4e-02  2e-02  0.6266  1e-01   2  1  1 |  3  2\n",
      " 5  +1.572e+02  +1.481e+02  +2e+01  5e-03  4e-02  1e-02  4e-03  0.7833  5e-02   2  1  1 |  2  1\n",
      " 6  +1.555e+02  +1.517e+02  +9e+00  2e-03  2e-02  5e-03  2e-03  0.6266  5e-02   2  1  1 |  2  2\n",
      " 7  +1.541e+02  +1.533e+02  +2e+00  4e-04  4e-03  1e-03  4e-04  0.7833  1e-02   2  1  1 |  1  1\n",
      " 8  +1.540e+02  +1.537e+02  +8e-01  2e-04  1e-03  4e-04  2e-04  0.6266  5e-02   2  1  1 |  2  2\n",
      " 9  +1.539e+02  +1.539e+02  +2e-01  4e-05  3e-04  1e-04  3e-05  0.7833  9e-03   2  1  1 |  1  1\n",
      "10  +1.539e+02  +1.539e+02  +7e-02  2e-05  1e-04  4e-05  1e-05  0.6266  5e-02   1  1  1 |  2  2\n",
      "11  +1.539e+02  +1.539e+02  +2e-02  3e-06  3e-05  9e-06  3e-06  0.7833  9e-03   2  1  1 |  1  1\n",
      "12  +1.539e+02  +1.539e+02  +6e-03  1e-06  1e-05  4e-06  1e-06  0.6266  5e-02   2  1  1 |  2  2\n",
      "13  +1.539e+02  +1.539e+02  +1e-03  3e-07  3e-06  8e-07  3e-07  0.7833  9e-03   1  0  0 |  1  1\n",
      "14  +1.539e+02  +1.539e+02  +6e-04  1e-07  1e-06  3e-07  1e-07  0.6266  5e-02   2  0  0 |  2  2\n",
      "15  +1.539e+02  +1.539e+02  +1e-04  3e-08  2e-07  7e-08  3e-08  0.7833  9e-03   1  0  0 |  1  1\n",
      "16  +1.539e+02  +1.539e+02  +5e-05  1e-08  1e-07  3e-08  1e-08  0.6266  5e-02   1  0  0 |  2  2\n",
      "17  +1.539e+02  +1.539e+02  +1e-05  3e-09  2e-08  7e-09  2e-09  0.7833  9e-03   0  0  0 |  1  1\n",
      "18  +1.539e+02  +1.539e+02  +5e-06  1e-09  9e-09  3e-09  9e-10  0.6266  5e-02   0  0  0 |  2  2\n",
      "19  +1.539e+02  +1.539e+02  +1e-06  2e-10  2e-09  6e-10  2e-10  0.7833  9e-03   0  0  0 |  1  1\n",
      "\n",
      "OPTIMAL (within feastol=2.0e-09, reltol=6.8e-09, abstol=1.0e-06).\n",
      "Runtime: 0.057026 seconds.\n",
      "\n"
     ]
    },
    {
     "data": {
      "text/plain": [
       "153.9227974779715"
      ]
     },
     "execution_count": 66,
     "metadata": {},
     "output_type": "execute_result"
    }
   ],
   "source": [
    "problem = cvx.Problem(cvx.Minimize(loss))\n",
    "problem.solve(verbose=True)"
   ]
  },
  {
   "cell_type": "code",
   "execution_count": 70,
   "metadata": {
    "collapsed": false
   },
   "outputs": [
    {
     "data": {
      "text/plain": [
       "matrix([[  0.42037137],\n",
       "        [-10.19581833]])"
      ]
     },
     "execution_count": 70,
     "metadata": {},
     "output_type": "execute_result"
    }
   ],
   "source": [
    "# [theta2,theta3]\n",
    "w.value"
   ]
  },
  {
   "cell_type": "code",
   "execution_count": 69,
   "metadata": {
    "collapsed": false
   },
   "outputs": [
    {
     "data": {
      "text/plain": [
       "-1.6441468015900242"
      ]
     },
     "execution_count": 69,
     "metadata": {},
     "output_type": "execute_result"
    }
   ],
   "source": [
    "# [theta1]\n",
    "b.value"
   ]
  },
  {
   "cell_type": "code",
   "execution_count": null,
   "metadata": {
    "collapsed": true
   },
   "outputs": [],
   "source": []
  }
 ],
 "metadata": {
  "anaconda-cloud": {},
  "kernelspec": {
   "display_name": "Python [Root]",
   "language": "python",
   "name": "Python [Root]"
  },
  "language_info": {
   "codemirror_mode": {
    "name": "ipython",
    "version": 2
   },
   "file_extension": ".py",
   "mimetype": "text/x-python",
   "name": "python",
   "nbconvert_exporter": "python",
   "pygments_lexer": "ipython2",
   "version": "2.7.12"
  }
 },
 "nbformat": 4,
 "nbformat_minor": 0
}
