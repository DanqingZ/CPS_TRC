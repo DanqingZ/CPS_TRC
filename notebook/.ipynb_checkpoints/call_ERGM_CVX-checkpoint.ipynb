{
 "cells": [
  {
   "cell_type": "code",
   "execution_count": 3,
   "metadata": {
    "collapsed": false
   },
   "outputs": [],
   "source": [
    "import matplotlib.pyplot as plt\n",
    "% matplotlib inline\n",
    "import numpy as np\n",
    "import pandas as pd \n",
    "from cvxpy import *"
   ]
  },
  {
   "cell_type": "code",
   "execution_count": 4,
   "metadata": {
    "collapsed": false
   },
   "outputs": [
    {
     "name": "stdout",
     "output_type": "stream",
     "text": [
      "['ECOS_BB', 'SCS', 'ECOS', 'GUROBI', 'LS']\n"
     ]
    }
   ],
   "source": [
    "# check if cvxpy is installed and check installed solvers\n",
    "print installed_solvers()"
   ]
  },
  {
   "cell_type": "code",
   "execution_count": 5,
   "metadata": {
    "collapsed": false
   },
   "outputs": [],
   "source": [
    "# load tranining data set, due to data privacy issues the data for the paper is relesed\n",
    "# load edge\n",
    "E= pd.read_csv(\"data/edges_new.csv\",header=None)\n",
    "# community label for each node\n",
    "C = pd.read_csv(\"data/nodes_C.csv\",header=None)\n",
    "# name name\n",
    "V = pd.read_csv(\"data/nodes_N.csv\",header=None)\n",
    "# distance between connedted nodes\n",
    "E_all = pd.read_csv(\"data/E_all.csv\",header=None)"
   ]
  },
  {
   "cell_type": "code",
   "execution_count": 6,
   "metadata": {
    "collapsed": false
   },
   "outputs": [
    {
     "name": "stdout",
     "output_type": "stream",
     "text": [
      "/Users/danqing0703/Google_Drive/research_2017Spring/code_review/CPS_TRC\n"
     ]
    }
   ],
   "source": [
    "cd ../"
   ]
  },
  {
   "cell_type": "code",
   "execution_count": 11,
   "metadata": {
    "collapsed": false
   },
   "outputs": [
    {
     "name": "stdout",
     "output_type": "stream",
     "text": [
      "The autoreload extension is already loaded. To reload it, use:\n",
      "  %reload_ext autoreload\n"
     ]
    }
   ],
   "source": [
    "%load_ext autoreload\n",
    "%autoreload 2\n",
    "from src.models.ERGM_CVX import ERGM_CVX"
   ]
  },
  {
   "cell_type": "code",
   "execution_count": 12,
   "metadata": {
    "collapsed": true
   },
   "outputs": [],
   "source": [
    "A = ERGM_CVX(E, C, V, E_all)"
   ]
  },
  {
   "cell_type": "code",
   "execution_count": 13,
   "metadata": {
    "collapsed": false
   },
   "outputs": [
    {
     "name": "stdout",
     "output_type": "stream",
     "text": [
      "\n",
      "ECOS 2.0.4 - (C) embotech GmbH, Zurich Switzerland, 2012-15. Web: www.embotech.com/ECOS\n",
      "\n",
      "It     pcost       dcost      gap   pres   dres    k/t    mu     step   sigma     IR    |   BT\n",
      " 0  +0.000e+00  -1.149e+03  +5e+03  6e-01  4e+00  1e+00  1e+00    ---    ---    0  0  - |  -  - \n",
      " 1  -1.061e+02  -4.938e+02  +1e+03  2e-01  2e+00  4e-01  2e-01  0.7833  5e-02   2  1  1 |  2  1\n",
      " 2  +1.605e+02  +1.843e+01  +4e+02  8e-02  6e-01  2e-01  7e-02  0.7833  1e-01   2  1  1 |  3  1\n",
      " 3  +1.606e+02  +8.738e+01  +2e+02  4e-02  3e-01  9e-02  4e-02  0.6266  2e-01   2  1  1 |  4  2\n",
      " 4  +1.588e+02  +1.249e+02  +9e+01  2e-02  1e-01  4e-02  2e-02  0.6266  1e-01   2  1  1 |  3  2\n",
      " 5  +1.572e+02  +1.481e+02  +2e+01  5e-03  4e-02  1e-02  4e-03  0.7833  5e-02   2  1  1 |  2  1\n",
      " 6  +1.555e+02  +1.517e+02  +9e+00  2e-03  2e-02  5e-03  2e-03  0.6266  5e-02   2  1  1 |  2  2\n",
      " 7  +1.541e+02  +1.533e+02  +2e+00  4e-04  4e-03  1e-03  4e-04  0.7833  1e-02   2  1  1 |  1  1\n",
      " 8  +1.540e+02  +1.537e+02  +8e-01  2e-04  1e-03  4e-04  2e-04  0.6266  5e-02   2  1  1 |  2  2\n",
      " 9  +1.539e+02  +1.539e+02  +2e-01  4e-05  3e-04  1e-04  3e-05  0.7833  9e-03   2  1  1 |  1  1\n",
      "10  +1.539e+02  +1.539e+02  +7e-02  2e-05  1e-04  4e-05  1e-05  0.6266  5e-02   1  1  1 |  2  2\n",
      "11  +1.539e+02  +1.539e+02  +2e-02  3e-06  3e-05  9e-06  3e-06  0.7833  9e-03   2  1  1 |  1  1\n",
      "12  +1.539e+02  +1.539e+02  +6e-03  1e-06  1e-05  4e-06  1e-06  0.6266  5e-02   2  1  1 |  2  2\n",
      "13  +1.539e+02  +1.539e+02  +1e-03  3e-07  3e-06  8e-07  3e-07  0.7833  9e-03   1  0  0 |  1  1\n",
      "14  +1.539e+02  +1.539e+02  +6e-04  1e-07  1e-06  3e-07  1e-07  0.6266  5e-02   2  0  0 |  2  2\n",
      "15  +1.539e+02  +1.539e+02  +1e-04  3e-08  2e-07  7e-08  3e-08  0.7833  9e-03   1  0  0 |  1  1\n",
      "16  +1.539e+02  +1.539e+02  +5e-05  1e-08  1e-07  3e-08  1e-08  0.6266  5e-02   1  0  0 |  2  2\n",
      "17  +1.539e+02  +1.539e+02  +1e-05  3e-09  2e-08  7e-09  2e-09  0.7833  9e-03   0  0  0 |  1  1\n",
      "18  +1.539e+02  +1.539e+02  +5e-06  1e-09  9e-09  3e-09  9e-10  0.6266  5e-02   0  0  0 |  2  2\n",
      "19  +1.539e+02  +1.539e+02  +1e-06  2e-10  2e-09  6e-10  2e-10  0.7833  9e-03   0  0  0 |  1  1\n",
      "\n",
      "OPTIMAL (within feastol=2.0e-09, reltol=6.8e-09, abstol=1.0e-06).\n",
      "Runtime: 0.043646 seconds.\n",
      "\n"
     ]
    }
   ],
   "source": [
    "A.run_CVX()"
   ]
  },
  {
   "cell_type": "code",
   "execution_count": 14,
   "metadata": {
    "collapsed": false
   },
   "outputs": [
    {
     "name": "stdout",
     "output_type": "stream",
     "text": [
      "theta1 and theta2 [[  0.42037137]\n",
      " [-10.19581833]]\n",
      "theta3 -1.64414680159\n"
     ]
    }
   ],
   "source": [
    "print 'theta1 and theta2',A.W\n",
    "print 'theta3',A.b"
   ]
  },
  {
   "cell_type": "code",
   "execution_count": null,
   "metadata": {
    "collapsed": true
   },
   "outputs": [],
   "source": []
  }
 ],
 "metadata": {
  "anaconda-cloud": {},
  "kernelspec": {
   "display_name": "Python [Root]",
   "language": "python",
   "name": "Python [Root]"
  },
  "language_info": {
   "codemirror_mode": {
    "name": "ipython",
    "version": 2
   },
   "file_extension": ".py",
   "mimetype": "text/x-python",
   "name": "python",
   "nbconvert_exporter": "python",
   "pygments_lexer": "ipython2",
   "version": "2.7.12"
  }
 },
 "nbformat": 4,
 "nbformat_minor": 0
}
